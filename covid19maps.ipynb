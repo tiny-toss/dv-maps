{
 "metadata": {
  "language_info": {
   "codemirror_mode": {
    "name": "ipython",
    "version": 3
   },
   "file_extension": ".py",
   "mimetype": "text/x-python",
   "name": "python",
   "nbconvert_exporter": "python",
   "pygments_lexer": "ipython3",
   "version": "3.8.6-candidate"
  },
  "orig_nbformat": 2,
  "kernelspec": {
   "name": "Python 3.8.6 64-bit",
   "display_name": "Python 3.8.6 64-bit",
   "metadata": {
    "interpreter": {
     "hash": "23a0b241a33537883b39067dbbeaffacf56379d0e0386bed5fb7b1dd24f284a0"
    }
   }
  }
 },
 "nbformat": 4,
 "nbformat_minor": 2,
 "cells": [
  {
   "cell_type": "code",
   "execution_count": 1,
   "metadata": {},
   "outputs": [],
   "source": [
    "# Python Map Visualisation of Covid-19\n",
    "import json\n",
    "import folium \n",
    "import requests\n",
    "import mimetypes\n",
    "import http.client\n",
    "import pandas as pd\n",
    "from folium.plugins import HeatMap\n",
    "from pandas.io.json import json_normalize"
   ]
  },
  {
   "cell_type": "code",
   "execution_count": 64,
   "metadata": {},
   "outputs": [],
   "source": [
    "conn = http.client.HTTPSConnection(\"api.covid19api.com\")\n",
    "payload=''\n",
    "headers = {}\n",
    "conn.request(\"GET\", \"/summary\", payload, headers)\n",
    "res = conn.getresponse()\n",
    "data = res.read().decode('UTF-8')"
   ]
  },
  {
   "cell_type": "code",
   "execution_count": 65,
   "metadata": {},
   "outputs": [],
   "source": [
    "covid1 = json.loads(data)"
   ]
  },
  {
   "cell_type": "code",
   "execution_count": 66,
   "metadata": {},
   "outputs": [],
   "source": [
    "#normalise data\n",
    "pd.json_normalize(covid1['Countries'], sep=',');"
   ]
  },
  {
   "cell_type": "code",
   "execution_count": 67,
   "metadata": {},
   "outputs": [],
   "source": [
    "#convert to pandas dataframe\n",
    "\n",
    "df = pd.DataFrame(covid1['Countries'])\n",
    "#df"
   ]
  },
  {
   "cell_type": "code",
   "execution_count": 68,
   "metadata": {},
   "outputs": [],
   "source": [
    "#drop unwanted cols\n",
    "covid = df.drop(columns=['CountryCode', 'Slug', 'Date', 'Premium'], axis=1)\n",
    "#covid"
   ]
  },
  {
   "cell_type": "code",
   "execution_count": 69,
   "metadata": {},
   "outputs": [],
   "source": [
    "map1 = folium.Map(tiles=\"Stamen Terrain\", min_zoom=1.5)\n",
    "#map1"
   ]
  },
  {
   "cell_type": "code",
   "execution_count": 70,
   "metadata": {},
   "outputs": [],
   "source": [
    "url = 'http://raw.githubusercontent.com/python-visualization/folium/master/examples/data'\n",
    "country_shapes = f'{url}/world-countries.json'"
   ]
  },
  {
   "cell_type": "code",
   "execution_count": 71,
   "metadata": {},
   "outputs": [
    {
     "output_type": "execute_result",
     "data": {
      "text/plain": "&lt;folium.features.Choropleth at 0x18ea2a9d970&gt;"
     },
     "metadata": {},
     "execution_count": 71
    }
   ],
   "source": [
    "folium.Choropleth(\n",
    "    geo_data=country_shapes,\n",
    "    min_zoom=2,\n",
    "    name='Covid-19',\n",
    "    data=covid,\n",
    "    columns=['Country', 'TotalConfirmed'],\n",
    "    key_on = 'feature.properties.name',\n",
    "    fill_color='YlOrRd',\n",
    "    nana_fill_color='black',\n",
    "    legend_name='Total Confirmed Covid-19 Cases',\n",
    ").add_to(map1)\n",
    "#map1"
   ]
  },
  {
   "cell_type": "code",
   "execution_count": 72,
   "metadata": {},
   "outputs": [],
   "source": [
    "covid.update(covid['TotalConfirmed'].map('Total Confirmed:{}'.format))\n",
    "covid.update(covid['TotalRecovered'].map('Total Recovered:{}'.format))"
   ]
  },
  {
   "cell_type": "code",
   "execution_count": 73,
   "metadata": {},
   "outputs": [],
   "source": [
    "coordinates=pd.read_csv('https://raw.githubusercontent.com/VinitaSilaparasetty/covid-map/master/country-coordinates-world.csv')\n",
    "#coordinates"
   ]
  },
  {
   "cell_type": "code",
   "execution_count": 74,
   "metadata": {},
   "outputs": [],
   "source": [
    "covid_final=pd.merge(covid, coordinates, on='Country')\n",
    "\n",
    "def plotDot(point):\n",
    "    folium.CircleMarker(location=[point.latitude, point.longitude],\n",
    "    radius=5,\n",
    "    weight=2,\n",
    "    popup = [point.Country, point.TotalConfirmed, point.TotalRecovered],\n",
    "    fill_color = '#000000').add_to(map1)"
   ]
  },
  {
   "cell_type": "code",
   "execution_count": 75,
   "metadata": {},
   "outputs": [],
   "source": [
    "# 1. Total Confirmed Covid-19 Cases\n",
    "\n",
    "covid_final.apply(plotDot, axis=1)\n",
    "map1.fit_bounds(map1.get_bounds())\n",
    "map1\n",
    "#map1.save('cases.html')\n"
   ]
  },
  {
   "cell_type": "code",
   "execution_count": 78,
   "metadata": {},
   "outputs": [],
   "source": [
    "map1 = folium.Map(tiles='StamenToner', min_zoom=2)\n",
    "#map"
   ]
  },
  {
   "cell_type": "code",
   "execution_count": 80,
   "metadata": {},
   "outputs": [],
   "source": [
    "deaths = covid_final['TotalDeaths'].astype(float)\n",
    "lat = covid_final['latitude'].astype(float)\n",
    "lon = covid_final['longitude'].astype(float)\n",
    "map1.add_child(HeatMap(zip(lat,lon,deaths), radius=0)); "
   ]
  },
  {
   "cell_type": "code",
   "execution_count": 82,
   "metadata": {},
   "outputs": [],
   "source": [
    "# 2. Total Confirmed Covid-19 Deaths\n",
    "def plotDot(point):\n",
    "    folium.CircleMarker(location=[point.latitude, point.longitude],\n",
    "    radiu=2,\n",
    "    weight=1,\n",
    "    popup=[point.Country, point.TotalDeaths],\n",
    "    fill_color='#000000').add_to(map1)\n",
    "covid_final.apply(plotDot, axis=1)\n",
    "map1.fit_bounds(map1.get_bounds())\n",
    "map1\n",
    "#map1.save('deaths.html')"
   ]
  },
  {
   "cell_type": "code",
   "execution_count": null,
   "metadata": {},
   "outputs": [],
   "source": []
  }
 ]
}

<img src="file:///C:/Users/shan/covid19-data-visualisation/dv-maps/deaths.html" alt="W3Schools.com">
